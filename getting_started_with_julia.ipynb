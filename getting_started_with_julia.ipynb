{
 "cells": [
  {
   "cell_type": "markdown",
   "source": [
    "# Getting started with Julia"
   ],
   "metadata": {}
  },
  {
   "cell_type": "markdown",
   "source": [
    "Since JuMP is embedded in Julia, knowing some basic Julia is important\n",
    "for learning JuMP. This tutorial is designed to provide a minimalist\n",
    "crash course in the basics of Julia. You can find resources that provide\n",
    "a more comprehensive introduction to Julia [here](https://julialang.org/learning/)."
   ],
   "metadata": {}
  },
  {
   "cell_type": "markdown",
   "source": [
    "## Where to get help"
   ],
   "metadata": {}
  },
  {
   "cell_type": "markdown",
   "source": [
    " * Read the documentation\n",
    "   * JuMP https://jump.dev/JuMP.jl/stable/\n",
    "   * Julia https://docs.julialang.org/en/v1/\n",
    " * Ask (or browse) the Julia community forum: https://discourse.julialang.org\n",
    "   * If the question is JuMP-related, ask in the [Optimization (Mathematical)](https://discourse.julialang.org/c/domain/opt/13)\n",
    "     section, or tag your question with \"jump\""
   ],
   "metadata": {}
  },
  {
   "cell_type": "markdown",
   "source": [
    " * Type `?`, a space, and then the name of the function in the Julia REPL"
   ],
   "metadata": {}
  },
  {
   "outputs": [],
   "cell_type": "code",
   "source": [
    "?"
   ],
   "metadata": {},
   "execution_count": null
  },
  {
   "cell_type": "markdown",
   "source": [
    "## Installing Julia"
   ],
   "metadata": {}
  },
  {
   "cell_type": "markdown",
   "source": [
    "To install Julia, [download the latest stable release](https://julialang.org/downloads/),\n",
    "then follow the [platform specific install instructions](https://julialang.org/downloads/platform/)."
   ],
   "metadata": {}
  },
  {
   "cell_type": "markdown",
   "source": [
    "**Tip**\n",
    "    Unless you know otherwise, you probably want the 64-bit version."
   ],
   "metadata": {}
  },
  {
   "cell_type": "markdown",
   "source": [
    "Next, you need an IDE to develop in. VS Code is a popular choice, so follow\n",
    "[these install instructions](https://www.julia-vscode.org/docs/stable/gettingstarted/)."
   ],
   "metadata": {}
  },
  {
   "cell_type": "markdown",
   "source": [
    "## Numbers and arithmetic"
   ],
   "metadata": {}
  },
  {
   "cell_type": "markdown",
   "source": [
    "Since we want to solve optimization problems, we're going to be using a lot of\n",
    "math. Luckily, Julia is great for math, with all the usual operators:"
   ],
   "metadata": {}
  },
  {
   "outputs": [],
   "cell_type": "code",
   "source": [
    "@show 1 + 1\n",
    "@show 1 - 2\n",
    "@show 2 * 2\n",
    "@show 4 / 5\n",
    "@show 3^2"
   ],
   "metadata": {},
   "execution_count": null
  },
  {
   "cell_type": "markdown",
   "source": [
    "**Info**\n",
    "    The `@` in front of something indicates that it is a macro, which is just\n",
    "    a special type of function. In this case, `@show` prints the expression as\n",
    "    typed (e.g., `1 - 2`), as well as the evaluation of the expression (`-1`)."
   ],
   "metadata": {}
  },
  {
   "cell_type": "markdown",
   "source": [
    "Did you notice how Julia didn't print `.0` after some of the numbers? Julia is\n",
    "a dynamic language, which means you never have to explicitly declare the type\n",
    "of a variable. However, in the background, Julia is giving each variable a\n",
    "type. Check the type of something using the `typeof` function:"
   ],
   "metadata": {}
  },
  {
   "outputs": [],
   "cell_type": "code",
   "source": [
    "@show typeof(1)\n",
    "@show typeof(1.0)"
   ],
   "metadata": {},
   "execution_count": null
  },
  {
   "cell_type": "markdown",
   "source": [
    "Here `1` is an `Int64`, which is an integer with 64 bits of precision, and\n",
    "`1.0` is a `Float64`, which is a floating point number with 64-bits of\n",
    "precision."
   ],
   "metadata": {}
  },
  {
   "cell_type": "markdown",
   "source": [
    "**Tip**\n",
    "    If you aren't familiar with floating point numbers, make sure to read\n",
    "    the Floating point numbers section."
   ],
   "metadata": {}
  },
  {
   "cell_type": "markdown",
   "source": [
    "We create complex numbers using `im`:"
   ],
   "metadata": {}
  },
  {
   "outputs": [],
   "cell_type": "code",
   "source": [
    "x = 2 + 1im\n",
    "@show real(x)\n",
    "@show imag(x)\n",
    "@show typeof(x)\n",
    "@show x * (1 - 2im)"
   ],
   "metadata": {},
   "execution_count": null
  },
  {
   "cell_type": "markdown",
   "source": [
    "**Info**\n",
    "    The curly brackets surround what we call the _parameters_ of a type. You\n",
    "    can read `Complex{Int64}`  as \"a complex number, where the real and\n",
    "    imaginary parts are represented by `Int64`.\" If we call\n",
    "    `typeof(1.0 + 2.0im)` it will be `Complex{Float64}`, which a complex\n",
    "    number with the parts represented by `Float64`."
   ],
   "metadata": {}
  },
  {
   "cell_type": "markdown",
   "source": [
    "There are also some cool things like an irrational representation of π."
   ],
   "metadata": {}
  },
  {
   "outputs": [],
   "cell_type": "code",
   "source": [
    "π"
   ],
   "metadata": {},
   "execution_count": null
  },
  {
   "cell_type": "markdown",
   "source": [
    "**Tip**\n",
    "    To make π (and most other Greek letters), type `\\pi` and then press\n",
    "    `[TAB]`."
   ],
   "metadata": {}
  },
  {
   "outputs": [],
   "cell_type": "code",
   "source": [
    "typeof(π)"
   ],
   "metadata": {},
   "execution_count": null
  },
  {
   "cell_type": "markdown",
   "source": [
    "However, if we do math with irrational numbers, they get converted to\n",
    "`Float64`:"
   ],
   "metadata": {}
  },
  {
   "outputs": [],
   "cell_type": "code",
   "source": [
    "typeof(2π / 3)"
   ],
   "metadata": {},
   "execution_count": null
  },
  {
   "cell_type": "markdown",
   "source": [
    "### Floating point numbers"
   ],
   "metadata": {}
  },
  {
   "cell_type": "markdown",
   "source": [
    "**Warning**\n",
    "    If you aren't familiar with floating point numbers, make sure to read this\n",
    "    section carefully."
   ],
   "metadata": {}
  },
  {
   "cell_type": "markdown",
   "source": [
    "A `Float64` is a [floating point](https://en.wikipedia.org/wiki/Floating-point_arithmetic)\n",
    "approximation of a real number using 64-bits of information."
   ],
   "metadata": {}
  },
  {
   "cell_type": "markdown",
   "source": [
    "Because it is an approximation, things we know hold true in mathematics don't\n",
    "hold true in a computer! For example:"
   ],
   "metadata": {}
  },
  {
   "outputs": [],
   "cell_type": "code",
   "source": [
    "0.1 * 3 == 0.3"
   ],
   "metadata": {},
   "execution_count": null
  },
  {
   "outputs": [],
   "cell_type": "code",
   "source": [
    "sin(2π / 3) == √3 / 2"
   ],
   "metadata": {},
   "execution_count": null
  },
  {
   "cell_type": "markdown",
   "source": [
    "**Tip**\n",
    "    Get `√` by typing `\\sqrt` then press `[TAB]`."
   ],
   "metadata": {}
  },
  {
   "cell_type": "markdown",
   "source": [
    "Let's see what the differences are:"
   ],
   "metadata": {}
  },
  {
   "outputs": [],
   "cell_type": "code",
   "source": [
    "0.1 * 3 - 0.3"
   ],
   "metadata": {},
   "execution_count": null
  },
  {
   "outputs": [],
   "cell_type": "code",
   "source": [
    "sin(2π / 3) - √3 / 2"
   ],
   "metadata": {},
   "execution_count": null
  },
  {
   "cell_type": "markdown",
   "source": [
    "They are small, but not zero!"
   ],
   "metadata": {}
  },
  {
   "cell_type": "markdown",
   "source": [
    "One way of explaining this difference is to consider how we would write\n",
    "`1 / 3` and `2 / 3` using only four digits after the decimal point. We would\n",
    "write `1 / 3` as `0.3333`, and `2 / 3` as `0.6667`. So, despite the fact that\n",
    "`2 * (1 / 3) == 2 / 3`, `2 * 0.3333 == 0.6666 != 0.6667`."
   ],
   "metadata": {}
  },
  {
   "cell_type": "markdown",
   "source": [
    "Let's try that again using ≈ (`\\approx + [TAB]`) instead of `==`:"
   ],
   "metadata": {}
  },
  {
   "outputs": [],
   "cell_type": "code",
   "source": [
    "0.1 * 3 ≈ 0.3"
   ],
   "metadata": {},
   "execution_count": null
  },
  {
   "outputs": [],
   "cell_type": "code",
   "source": [
    "sin(2π / 3) ≈ √3 / 2"
   ],
   "metadata": {},
   "execution_count": null
  },
  {
   "cell_type": "markdown",
   "source": [
    "`≈` is just a clever way of calling the `isapprox` function:"
   ],
   "metadata": {}
  },
  {
   "outputs": [],
   "cell_type": "code",
   "source": [
    "isapprox(sin(2π / 3), √3 / 2; atol = 1e-8)"
   ],
   "metadata": {},
   "execution_count": null
  },
  {
   "cell_type": "markdown",
   "source": [
    "**Warning**\n",
    "    Floating point is the reason solvers use tolerances when they solve\n",
    "    optimization models. A common mistake you're likely to make is checking\n",
    "    whether a binary variable is 0 using `value(z) == 0`. Always remember to\n",
    "    use something like `isapprox` when comparing floating point numbers.\n",
    "    Note that `isapprox` will always return `false` if one of the number being\n",
    "    compared is `0` and `atol` is zero (its default value)."
   ],
   "metadata": {}
  },
  {
   "outputs": [],
   "cell_type": "code",
   "source": [
    "1e-300 ≈ 0.0"
   ],
   "metadata": {},
   "execution_count": null
  },
  {
   "cell_type": "markdown",
   "source": [
    "so always set a nonzero value of `atol` if one of the arguments can be zero."
   ],
   "metadata": {}
  },
  {
   "outputs": [],
   "cell_type": "code",
   "source": [
    "isapprox(1e-9, 0.0, atol=1e-8)"
   ],
   "metadata": {},
   "execution_count": null
  },
  {
   "cell_type": "markdown",
   "source": [
    "**Tip**\n",
    "    Gurobi has a [good series of articles](https://www.gurobi.com/documentation/9.0/refman/num_grb_guidelines_for_num.html)\n",
    "    on the implications of floating point in optimization if you want to read\n",
    "    more."
   ],
   "metadata": {}
  },
  {
   "cell_type": "markdown",
   "source": [
    "If you aren't careful, floating point arithmetic can throw up all manner of\n",
    "issues. For example:"
   ],
   "metadata": {}
  },
  {
   "outputs": [],
   "cell_type": "code",
   "source": [
    "1 + 1e-16 == 1"
   ],
   "metadata": {},
   "execution_count": null
  },
  {
   "cell_type": "markdown",
   "source": [
    "It even turns out that floating point numbers aren't associative!"
   ],
   "metadata": {}
  },
  {
   "outputs": [],
   "cell_type": "code",
   "source": [
    "(1 + 1e-16) - 1e-16 == 1 + (1e-16 - 1e-16)"
   ],
   "metadata": {},
   "execution_count": null
  },
  {
   "cell_type": "markdown",
   "source": [
    "It's important to note that this issue isn't Julia-specific. It happens in\n",
    "every programming language (try it out in Python)."
   ],
   "metadata": {}
  },
  {
   "cell_type": "markdown",
   "source": [
    "## Vectors, matrices and arrays"
   ],
   "metadata": {}
  },
  {
   "cell_type": "markdown",
   "source": [
    "Similar to Matlab, Julia has native support for vectors, matrices and tensors;\n",
    "all of which are represented by arrays of different dimensions. Vectors are\n",
    "constructed by comma-separated elements surrounded by square brackets:"
   ],
   "metadata": {}
  },
  {
   "outputs": [],
   "cell_type": "code",
   "source": [
    "b = [5, 6]"
   ],
   "metadata": {},
   "execution_count": null
  },
  {
   "cell_type": "markdown",
   "source": [
    "**Info**\n",
    "    `Array{Int64, 1}` means that this is an `Array`, with `Int64` elements,\n",
    "    and it has `1` dimension."
   ],
   "metadata": {}
  },
  {
   "cell_type": "markdown",
   "source": [
    "Matrices can by constructed with spaces separating the columns, and semicolons\n",
    "separating the rows:"
   ],
   "metadata": {}
  },
  {
   "outputs": [],
   "cell_type": "code",
   "source": [
    "A = [1.0 2.0; 3.0 4.0]"
   ],
   "metadata": {},
   "execution_count": null
  },
  {
   "cell_type": "markdown",
   "source": [
    "Note how this time the type is `Array{Float64, 2}`; the elements are `Float64`\n",
    "and there are `2` dimensions."
   ],
   "metadata": {}
  },
  {
   "cell_type": "markdown",
   "source": [
    "We can do linear algebra:"
   ],
   "metadata": {}
  },
  {
   "outputs": [],
   "cell_type": "code",
   "source": [
    "x = A \\ b"
   ],
   "metadata": {},
   "execution_count": null
  },
  {
   "cell_type": "markdown",
   "source": [
    "**Info**\n",
    "    Here is floating point at work again! `x` is approximately `[-4, 4.5]`."
   ],
   "metadata": {}
  },
  {
   "outputs": [],
   "cell_type": "code",
   "source": [
    "A * x"
   ],
   "metadata": {},
   "execution_count": null
  },
  {
   "outputs": [],
   "cell_type": "code",
   "source": [
    "A * x ≈ b"
   ],
   "metadata": {},
   "execution_count": null
  },
  {
   "cell_type": "markdown",
   "source": [
    "Note that when multiplying vectors and matrices, dimensions matter. For\n",
    "example, you can't multiply a vector by a vector:"
   ],
   "metadata": {}
  },
  {
   "outputs": [],
   "cell_type": "code",
   "source": [
    "b * b"
   ],
   "metadata": {},
   "execution_count": null
  },
  {
   "cell_type": "markdown",
   "source": [
    "But multiplying transposes works:"
   ],
   "metadata": {}
  },
  {
   "outputs": [],
   "cell_type": "code",
   "source": [
    "b' * b"
   ],
   "metadata": {},
   "execution_count": null
  },
  {
   "outputs": [],
   "cell_type": "code",
   "source": [
    "b * b'"
   ],
   "metadata": {},
   "execution_count": null
  },
  {
   "cell_type": "markdown",
   "source": [
    "## Other common types"
   ],
   "metadata": {}
  },
  {
   "cell_type": "markdown",
   "source": [
    "### Strings"
   ],
   "metadata": {}
  },
  {
   "cell_type": "markdown",
   "source": [
    "Double quotes are used for strings:"
   ],
   "metadata": {}
  },
  {
   "outputs": [],
   "cell_type": "code",
   "source": [
    "typeof(\"This is Julia\")"
   ],
   "metadata": {},
   "execution_count": null
  },
  {
   "cell_type": "markdown",
   "source": [
    "Unicode is fine in strings:"
   ],
   "metadata": {}
  },
  {
   "outputs": [],
   "cell_type": "code",
   "source": [
    "typeof(\"π is about 3.1415\")"
   ],
   "metadata": {},
   "execution_count": null
  },
  {
   "cell_type": "markdown",
   "source": [
    "Use [`println`](https://docs.julialang.org/en/v1/base/io-network/#Base.println)\n",
    "to print a string:"
   ],
   "metadata": {}
  },
  {
   "outputs": [],
   "cell_type": "code",
   "source": [
    "println(\"Hello, World!\")"
   ],
   "metadata": {},
   "execution_count": null
  },
  {
   "cell_type": "markdown",
   "source": [
    "We can use `$()` to interpolate values into a string:"
   ],
   "metadata": {}
  },
  {
   "outputs": [],
   "cell_type": "code",
   "source": [
    "x = 123\n",
    "println(\"The value of x is: $(x)\")"
   ],
   "metadata": {},
   "execution_count": null
  },
  {
   "cell_type": "markdown",
   "source": [
    "### Symbols"
   ],
   "metadata": {}
  },
  {
   "cell_type": "markdown",
   "source": [
    "Julia `Symbol`s are a data structure from the compiler that represent Julia\n",
    "identifiers (i.e., variable names)."
   ],
   "metadata": {}
  },
  {
   "outputs": [],
   "cell_type": "code",
   "source": [
    "println(\"The value of x is: $(eval(:x))\")"
   ],
   "metadata": {},
   "execution_count": null
  },
  {
   "cell_type": "markdown",
   "source": [
    "**Tip**\n",
    "    We used `eval` here to demonstrate how Julia links `Symbol`s to variables.\n",
    "    However, avoid calling `eval` in your code. It is usually a sign that your\n",
    "    code is doing something that could be more easily achieved a different\n",
    "    way. The [Community Forum](https://discourse.julialang.org/c/domain/opt/13)\n",
    "    is a good place to ask for advice on alternative approaches."
   ],
   "metadata": {}
  },
  {
   "outputs": [],
   "cell_type": "code",
   "source": [
    "typeof(:x)"
   ],
   "metadata": {},
   "execution_count": null
  },
  {
   "cell_type": "markdown",
   "source": [
    "You can think of a `Symbol` as a `String` that takes up less memory, and that\n",
    "can't be modified."
   ],
   "metadata": {}
  },
  {
   "cell_type": "markdown",
   "source": [
    "Convert between `String` and `Symbol` using their constructors:"
   ],
   "metadata": {}
  },
  {
   "outputs": [],
   "cell_type": "code",
   "source": [
    "String(:abc)"
   ],
   "metadata": {},
   "execution_count": null
  },
  {
   "outputs": [],
   "cell_type": "code",
   "source": [
    "Symbol(\"abc\")"
   ],
   "metadata": {},
   "execution_count": null
  },
  {
   "cell_type": "markdown",
   "source": [
    "**Tip**\n",
    "    `Symbol`s are often (ab)used to stand in for a `String` or an `Enum`, when\n",
    "    one of the former is likely a better choice. The JuMP style guide\n",
    "    recommends reserving `Symbol`s for identifiers. See @enum vs. Symbol\n",
    "    for more."
   ],
   "metadata": {}
  },
  {
   "cell_type": "markdown",
   "source": [
    "### Tuples"
   ],
   "metadata": {}
  },
  {
   "cell_type": "markdown",
   "source": [
    "Julia makes extensive use of a simple data structure called Tuples. Tuples are\n",
    "immutable collections of values. For example:"
   ],
   "metadata": {}
  },
  {
   "outputs": [],
   "cell_type": "code",
   "source": [
    "t = (\"hello\", 1.2, :foo)"
   ],
   "metadata": {},
   "execution_count": null
  },
  {
   "outputs": [],
   "cell_type": "code",
   "source": [
    "typeof(t)"
   ],
   "metadata": {},
   "execution_count": null
  },
  {
   "cell_type": "markdown",
   "source": [
    "Tuples can be accessed by index, similar to arrays:"
   ],
   "metadata": {}
  },
  {
   "outputs": [],
   "cell_type": "code",
   "source": [
    "t[2]"
   ],
   "metadata": {},
   "execution_count": null
  },
  {
   "cell_type": "markdown",
   "source": [
    "And they can be \"unpacked\" like so:"
   ],
   "metadata": {}
  },
  {
   "outputs": [],
   "cell_type": "code",
   "source": [
    "a, b, c = t\n",
    "b"
   ],
   "metadata": {},
   "execution_count": null
  },
  {
   "cell_type": "markdown",
   "source": [
    "The values can also be given names, which is a convenient way of making\n",
    "light-weight data structures."
   ],
   "metadata": {}
  },
  {
   "outputs": [],
   "cell_type": "code",
   "source": [
    "t = (word = \"hello\", num = 1.2, sym = :foo)"
   ],
   "metadata": {},
   "execution_count": null
  },
  {
   "cell_type": "markdown",
   "source": [
    "Values can be accessed using dot syntax:"
   ],
   "metadata": {}
  },
  {
   "outputs": [],
   "cell_type": "code",
   "source": [
    "t.word"
   ],
   "metadata": {},
   "execution_count": null
  },
  {
   "cell_type": "markdown",
   "source": [
    "## Dictionaries"
   ],
   "metadata": {}
  },
  {
   "cell_type": "markdown",
   "source": [
    "Similar to Python, Julia has native support for dictionaries. Dictionaries\n",
    "provide a very generic way of mapping keys to values.  For example, a map of\n",
    "integers to strings:"
   ],
   "metadata": {}
  },
  {
   "outputs": [],
   "cell_type": "code",
   "source": [
    "d1 = Dict(1 => \"A\", 2 => \"B\", 4 => \"D\")"
   ],
   "metadata": {},
   "execution_count": null
  },
  {
   "cell_type": "markdown",
   "source": [
    "**Info**\n",
    "    Type-stuff again: `Dict{Int64,String}` is a dictionary with `Int64` keys\n",
    "    and `String` values."
   ],
   "metadata": {}
  },
  {
   "cell_type": "markdown",
   "source": [
    "Looking up a values uses the bracket syntax:"
   ],
   "metadata": {}
  },
  {
   "outputs": [],
   "cell_type": "code",
   "source": [
    "d1[2]"
   ],
   "metadata": {},
   "execution_count": null
  },
  {
   "cell_type": "markdown",
   "source": [
    "Dictionaries support non-integer keys and can mix data types:"
   ],
   "metadata": {}
  },
  {
   "outputs": [],
   "cell_type": "code",
   "source": [
    "Dict(\"A\" => 1, \"B\" => 2.5, \"D\" => 2 - 3im)"
   ],
   "metadata": {},
   "execution_count": null
  },
  {
   "cell_type": "markdown",
   "source": [
    "**Info**\n",
    "    Julia types form a hierarchy. Here the value type of the dictionary is\n",
    "    `Number`, which is a generalization of `Int64`, `Float64`, and `Complex{Int}`.\n",
    "    In general, having variables with \"Abstract\" types like `Number` can lead\n",
    "    to slower code, so you should try to make sure every element in a\n",
    "    dictionary or vector is the same type. For example, in this case we could\n",
    "    represent every element as a `Complex{Float64}`:"
   ],
   "metadata": {}
  },
  {
   "outputs": [],
   "cell_type": "code",
   "source": [
    "Dict(\"A\" => 1.0 + 0.0im, \"B\" => 2.5 + 0.0im, \"D\" => 2.0 - 3.0im)"
   ],
   "metadata": {},
   "execution_count": null
  },
  {
   "cell_type": "markdown",
   "source": [
    "Dictionaries can be nested:"
   ],
   "metadata": {}
  },
  {
   "outputs": [],
   "cell_type": "code",
   "source": [
    "d2 = Dict(\"A\" => 1, \"B\" => 2, \"D\" => Dict(:foo => 3, :bar => 4))"
   ],
   "metadata": {},
   "execution_count": null
  },
  {
   "outputs": [],
   "cell_type": "code",
   "source": [
    "d2[\"B\"]"
   ],
   "metadata": {},
   "execution_count": null
  },
  {
   "outputs": [],
   "cell_type": "code",
   "source": [
    "d2[\"D\"][:foo]"
   ],
   "metadata": {},
   "execution_count": null
  },
  {
   "cell_type": "markdown",
   "source": [
    "## Structs"
   ],
   "metadata": {}
  },
  {
   "cell_type": "markdown",
   "source": [
    "You can define custom datastructures with `struct`:"
   ],
   "metadata": {}
  },
  {
   "outputs": [],
   "cell_type": "code",
   "source": [
    "struct MyStruct\n",
    "    x::Int\n",
    "    y::String\n",
    "    z::Dict{Int,Int}\n",
    "end\n",
    "\n",
    "a = MyStruct(1, \"a\", Dict(2 => 3))"
   ],
   "metadata": {},
   "execution_count": null
  },
  {
   "cell_type": "markdown",
   "source": [
    "By default, these are not mutable"
   ],
   "metadata": {}
  },
  {
   "outputs": [],
   "cell_type": "code",
   "source": [
    "a.x = 1"
   ],
   "metadata": {},
   "execution_count": null
  },
  {
   "cell_type": "markdown",
   "source": [
    "However, you can declare `mutable struct`:"
   ],
   "metadata": {}
  },
  {
   "outputs": [],
   "cell_type": "code",
   "source": [
    "mutable struct MyStructMutable\n",
    "    x::Int\n",
    "    y::String\n",
    "    z::Dict{Int,Int}\n",
    "end\n",
    "\n",
    "a = MyStructMutable(1, \"a\", Dict(2 => 3))\n",
    "\n",
    "a.x = 2\n",
    "\n",
    "a"
   ],
   "metadata": {},
   "execution_count": null
  },
  {
   "cell_type": "markdown",
   "source": [
    "## Loops"
   ],
   "metadata": {}
  },
  {
   "cell_type": "markdown",
   "source": [
    "Julia has native support for for-each style loops with the syntax\n",
    "`for <value> in <collection> end`:"
   ],
   "metadata": {}
  },
  {
   "outputs": [],
   "cell_type": "code",
   "source": [
    "for i in 1:5\n",
    "    println(i)\n",
    "end"
   ],
   "metadata": {},
   "execution_count": null
  },
  {
   "cell_type": "markdown",
   "source": [
    "**Info**\n",
    "    Ranges are constructed as `start:stop`, or `start:step:stop`."
   ],
   "metadata": {}
  },
  {
   "outputs": [],
   "cell_type": "code",
   "source": [
    "for i in 1.2:1.1:5.6\n",
    "    println(i)\n",
    "end"
   ],
   "metadata": {},
   "execution_count": null
  },
  {
   "cell_type": "markdown",
   "source": [
    "This for-each loop also works with dictionaries:"
   ],
   "metadata": {}
  },
  {
   "outputs": [],
   "cell_type": "code",
   "source": [
    "for (key, value) in Dict(\"A\" => 1, \"B\" => 2.5, \"D\" => 2 - 3im)\n",
    "    println(\"$(key): $(value)\")\n",
    "end"
   ],
   "metadata": {},
   "execution_count": null
  },
  {
   "cell_type": "markdown",
   "source": [
    "Note that in contrast to vector languages like Matlab and R, loops do not\n",
    "result in a significant performance degradation in Julia."
   ],
   "metadata": {}
  },
  {
   "cell_type": "markdown",
   "source": [
    "## Control Flow"
   ],
   "metadata": {}
  },
  {
   "cell_type": "markdown",
   "source": [
    "Julia control flow is similar to Matlab, using the keywords\n",
    "`if-elseif-else-end`, and the logical operators `||` and `&&` for **or** and\n",
    "**and** respectively:"
   ],
   "metadata": {}
  },
  {
   "outputs": [],
   "cell_type": "code",
   "source": [
    "for i in 0:3:15\n",
    "    if i < 5\n",
    "        println(\"$(i) is less than 5\")\n",
    "    elseif i < 10\n",
    "        println(\"$(i) is less than 10\")\n",
    "    else\n",
    "        if i == 10\n",
    "            println(\"the value is 10\")\n",
    "        else\n",
    "            println(\"$(i) is bigger than 10\")\n",
    "        end\n",
    "    end\n",
    "end"
   ],
   "metadata": {},
   "execution_count": null
  },
  {
   "cell_type": "markdown",
   "source": [
    "## Comprehensions"
   ],
   "metadata": {}
  },
  {
   "cell_type": "markdown",
   "source": [
    "Similar to languages like Haskell and Python, Julia supports the use of simple\n",
    "loops in the construction of arrays and dictionaries, called comprehensions.\n",
    "\n",
    "A list of increasing integers:"
   ],
   "metadata": {}
  },
  {
   "outputs": [],
   "cell_type": "code",
   "source": [
    "[i for i in 1:5]"
   ],
   "metadata": {},
   "execution_count": null
  },
  {
   "cell_type": "markdown",
   "source": [
    "Matrices can be built by including multiple indices:"
   ],
   "metadata": {}
  },
  {
   "outputs": [],
   "cell_type": "code",
   "source": [
    "[i * j for i in 1:5, j in 5:10]"
   ],
   "metadata": {},
   "execution_count": null
  },
  {
   "cell_type": "markdown",
   "source": [
    "Conditional statements can be used to filter out some values:"
   ],
   "metadata": {}
  },
  {
   "outputs": [],
   "cell_type": "code",
   "source": [
    "[i for i in 1:10 if i % 2 == 1]"
   ],
   "metadata": {},
   "execution_count": null
  },
  {
   "cell_type": "markdown",
   "source": [
    "A similar syntax can be used for building dictionaries:"
   ],
   "metadata": {}
  },
  {
   "outputs": [],
   "cell_type": "code",
   "source": [
    "Dict(\"$(i)\" => i for i in 1:10 if i % 2 == 1)"
   ],
   "metadata": {},
   "execution_count": null
  },
  {
   "cell_type": "markdown",
   "source": [
    "## Functions"
   ],
   "metadata": {}
  },
  {
   "cell_type": "markdown",
   "source": [
    "A simple function is defined as follows:"
   ],
   "metadata": {}
  },
  {
   "outputs": [],
   "cell_type": "code",
   "source": [
    "function print_hello()\n",
    "    return println(\"hello\")\n",
    "end\n",
    "print_hello()"
   ],
   "metadata": {},
   "execution_count": null
  },
  {
   "cell_type": "markdown",
   "source": [
    "Arguments can be added to a function:"
   ],
   "metadata": {}
  },
  {
   "outputs": [],
   "cell_type": "code",
   "source": [
    "function print_it(x)\n",
    "    return println(x)\n",
    "end\n",
    "print_it(\"hello\")\n",
    "print_it(1.234)\n",
    "print_it(:my_id)"
   ],
   "metadata": {},
   "execution_count": null
  },
  {
   "cell_type": "markdown",
   "source": [
    "Optional keyword arguments are also possible:"
   ],
   "metadata": {}
  },
  {
   "outputs": [],
   "cell_type": "code",
   "source": [
    "function print_it(x; prefix = \"value:\")\n",
    "    return println(\"$(prefix) $(x)\")\n",
    "end\n",
    "print_it(1.234)\n",
    "print_it(1.234, prefix = \"val:\")"
   ],
   "metadata": {},
   "execution_count": null
  },
  {
   "cell_type": "markdown",
   "source": [
    "The keyword `return` is used to specify the return values of a function:"
   ],
   "metadata": {}
  },
  {
   "outputs": [],
   "cell_type": "code",
   "source": [
    "function mult(x; y = 2.0)\n",
    "    return x * y\n",
    "end\n",
    "\n",
    "mult(4.0)"
   ],
   "metadata": {},
   "execution_count": null
  },
  {
   "outputs": [],
   "cell_type": "code",
   "source": [
    "mult(4.0, y = 5.0)"
   ],
   "metadata": {},
   "execution_count": null
  },
  {
   "cell_type": "markdown",
   "source": [
    "### Anonymous functions"
   ],
   "metadata": {}
  },
  {
   "cell_type": "markdown",
   "source": [
    "The syntax `input -> output` creates an anonymous function. These are most\n",
    "useful when passed to other functions. For example:"
   ],
   "metadata": {}
  },
  {
   "outputs": [],
   "cell_type": "code",
   "source": [
    "f = x -> x^2\n",
    "f(2)"
   ],
   "metadata": {},
   "execution_count": null
  },
  {
   "outputs": [],
   "cell_type": "code",
   "source": [
    "map(x -> x^2, 1:4)"
   ],
   "metadata": {},
   "execution_count": null
  },
  {
   "cell_type": "markdown",
   "source": [
    "### Type parameters"
   ],
   "metadata": {}
  },
  {
   "cell_type": "markdown",
   "source": [
    "We can constrain the inputs to a function using type parameters, which are\n",
    "`::` followed by the type of the input we want. For example:"
   ],
   "metadata": {}
  },
  {
   "outputs": [],
   "cell_type": "code",
   "source": [
    "function foo(x::Int)\n",
    "    return x^2\n",
    "end\n",
    "\n",
    "function foo(x::Float64)\n",
    "    return exp(x)\n",
    "end\n",
    "\n",
    "function foo(x::Number)\n",
    "    return x + 1\n",
    "end\n",
    "\n",
    "@show foo(2)\n",
    "@show foo(2.0)\n",
    "@show foo(1 + 1im)"
   ],
   "metadata": {},
   "execution_count": null
  },
  {
   "cell_type": "markdown",
   "source": [
    "But what happens if we call `foo` with something we haven't defined it for?"
   ],
   "metadata": {}
  },
  {
   "outputs": [],
   "cell_type": "code",
   "source": [
    "foo([1, 2, 3])"
   ],
   "metadata": {},
   "execution_count": null
  },
  {
   "cell_type": "markdown",
   "source": [
    "We get a dreaded `MethodError`! A `MethodError` means that you passed a\n",
    "function something that didn't match the type that it was expecting. In this\n",
    "case, the error message says that it doesn't know how to handle an\n",
    "`Array{Int64, 1}`, but it does know how to handle `Float64`, `Int64`, and\n",
    "`Number`.\n",
    "\n",
    "**Tip**\n",
    "    Read the \"Closest candidates\" part of the error message carefully to get a\n",
    "    hint as to what was expected."
   ],
   "metadata": {}
  },
  {
   "cell_type": "markdown",
   "source": [
    "### Broadcasting"
   ],
   "metadata": {}
  },
  {
   "cell_type": "markdown",
   "source": [
    "In the example above, we didn't define what to do if `f` was passed an\n",
    "`Array`. Luckily, Julia provides a convenient syntax for mapping `f`\n",
    "element-wise over arrays! Just add a `.` between the name of the function and\n",
    "the opening `(`. This works for _any_ function, including functions with\n",
    "multiple arguments. For example:"
   ],
   "metadata": {}
  },
  {
   "outputs": [],
   "cell_type": "code",
   "source": [
    "f.([1, 2, 3])"
   ],
   "metadata": {},
   "execution_count": null
  },
  {
   "cell_type": "markdown",
   "source": [
    "**Tip**\n",
    "    Get a `MethodError` when calling a function that takes an `Array`? Try\n",
    "    broadcasting it!"
   ],
   "metadata": {}
  },
  {
   "cell_type": "markdown",
   "source": [
    "## Mutable vs immutable objects"
   ],
   "metadata": {}
  },
  {
   "cell_type": "markdown",
   "source": [
    "Some types in Julia are *mutable*, which means you can change the values\n",
    "inside them. A good example is an array. You can modify the contents of an\n",
    "array without having to make a new array."
   ],
   "metadata": {}
  },
  {
   "cell_type": "markdown",
   "source": [
    "In contrast, types like `Float64` are *immutable*. You can't modify the\n",
    "contents of a `Float64`."
   ],
   "metadata": {}
  },
  {
   "cell_type": "markdown",
   "source": [
    "This is something to be aware of when passing types into functions. For\n",
    "example:"
   ],
   "metadata": {}
  },
  {
   "outputs": [],
   "cell_type": "code",
   "source": [
    "function mutability_example(mutable_type::Vector{Int}, immutable_type::Int)\n",
    "    mutable_type[1] += 1\n",
    "    immutable_type += 1\n",
    "    return\n",
    "end\n",
    "\n",
    "mutable_type = [1, 2, 3]\n",
    "immutable_type = 1\n",
    "\n",
    "mutability_example(mutable_type, immutable_type)\n",
    "\n",
    "println(\"mutable_type: $(mutable_type)\")\n",
    "println(\"immutable_type: $(immutable_type)\")"
   ],
   "metadata": {},
   "execution_count": null
  },
  {
   "cell_type": "markdown",
   "source": [
    "Because `Vector{Int}` is a mutable type, modifying the variable inside the\n",
    "function changed the value outside of the function. In contrast, the change\n",
    "to `immutable_type` didn't modify the value outside the function."
   ],
   "metadata": {}
  },
  {
   "cell_type": "markdown",
   "source": [
    "You can check mutability with the `isimmutable` function:"
   ],
   "metadata": {}
  },
  {
   "outputs": [],
   "cell_type": "code",
   "source": [
    "isimmutable([1, 2, 3])"
   ],
   "metadata": {},
   "execution_count": null
  },
  {
   "outputs": [],
   "cell_type": "code",
   "source": [
    "isimmutable(1)"
   ],
   "metadata": {},
   "execution_count": null
  },
  {
   "cell_type": "markdown",
   "source": [
    "## The package manager"
   ],
   "metadata": {}
  },
  {
   "cell_type": "markdown",
   "source": [
    "### Installing packages"
   ],
   "metadata": {}
  },
  {
   "cell_type": "markdown",
   "source": [
    "No matter how wonderful Julia's base language is, at some point you will want\n",
    "to use an extension package.  Some of these are built-in, for example random\n",
    "number generation is available in the `Random` package in the standard\n",
    "library. These packages are loaded with the commands `using` and `import`."
   ],
   "metadata": {}
  },
  {
   "outputs": [],
   "cell_type": "code",
   "source": [
    "using Random  # The equivalent of Python's `from Random import *`\n",
    "import Random  # The equivalent of Python's `import Random`\n",
    "\n",
    "Random.seed!(33)\n",
    "\n",
    "[rand() for i in 1:10]"
   ],
   "metadata": {},
   "execution_count": null
  },
  {
   "cell_type": "markdown",
   "source": [
    "The Package Manager is used to install packages that are not part of Julia's\n",
    "standard library."
   ],
   "metadata": {}
  },
  {
   "cell_type": "markdown",
   "source": [
    "For example the following can be used to install JuMP,\n",
    "```julia\n",
    "using Pkg\n",
    "Pkg.add(\"JuMP\")\n",
    "```"
   ],
   "metadata": {}
  },
  {
   "cell_type": "markdown",
   "source": [
    "For a complete list of registered Julia packages see the package listing at\n",
    "[JuliaHub](https://juliahub.com)."
   ],
   "metadata": {}
  },
  {
   "cell_type": "markdown",
   "source": [
    "From time to you may wish to use a Julia package that is not registered.  In\n",
    "this case a git repository URL can be used to install the package.\n",
    "```julia\n",
    "using Pkg\n",
    "Pkg.add(\"https://github.com/user-name/MyPackage.jl.git\")\n",
    "```"
   ],
   "metadata": {}
  },
  {
   "cell_type": "markdown",
   "source": [
    "### Package environments"
   ],
   "metadata": {}
  },
  {
   "cell_type": "markdown",
   "source": [
    "By default, `Pkg.add` will add packages to Julia's global environment.\n",
    "However, Julia also has built-in support for virtual environments."
   ],
   "metadata": {}
  },
  {
   "cell_type": "markdown",
   "source": [
    "Activate a virtual environment with:\n",
    "```julia\n",
    "import Pkg; Pkg.activate(\"/path/to/environment\")\n",
    "```"
   ],
   "metadata": {}
  },
  {
   "cell_type": "markdown",
   "source": [
    "You can see what packages are installed in the current environment with\n",
    "`Pkg.status()`."
   ],
   "metadata": {}
  },
  {
   "cell_type": "markdown",
   "source": [
    "**Tip**\n",
    "    We _strongly_ recommend you create a Pkg environment for each project\n",
    "    that you create in Julia, and add only the packages that you need, instead\n",
    "    of adding lots of packages to the global environment. The [Pkg manager documentation](https://julialang.github.io/Pkg.jl/v1/environments/)\n",
    "    has more information on this topic."
   ],
   "metadata": {}
  },
  {
   "cell_type": "markdown",
   "source": [
    "---\n",
    "\n",
    "*This notebook was generated using [Literate.jl](https://github.com/fredrikekre/Literate.jl).*"
   ],
   "metadata": {}
  }
 ],
 "nbformat_minor": 3,
 "metadata": {
  "language_info": {
   "file_extension": ".jl",
   "mimetype": "application/julia",
   "name": "julia",
   "version": "1.6.2"
  },
  "kernelspec": {
   "name": "julia-1.6",
   "display_name": "Julia 1.6.2",
   "language": "julia"
  }
 },
 "nbformat": 4
}
